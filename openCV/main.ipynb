{
 "cells": [
  {
   "cell_type": "markdown",
   "source": [
    "### Importing Libraries\n"
   ],
   "metadata": {}
  },
  {
   "cell_type": "code",
   "execution_count": 1,
   "source": [
    "import numpy as np\n",
    "import cv2\n",
    "import os\n",
    "import itertools\n",
    "import operator\n",
    "from matplotlib import pyplot as plt\n",
    "\n",
    "os.makedirs('output', exist_ok=True)"
   ],
   "outputs": [],
   "metadata": {}
  },
  {
   "cell_type": "markdown",
   "source": [
    "### Task 1 "
   ],
   "metadata": {}
  },
  {
   "cell_type": "code",
   "execution_count": 2,
   "source": [
    "!conda env export > environment.yml"
   ],
   "outputs": [],
   "metadata": {}
  },
  {
   "cell_type": "markdown",
   "source": [
    "### Task 2\n"
   ],
   "metadata": {}
  },
  {
   "cell_type": "code",
   "execution_count": 3,
   "source": [
    "sheet = np.zeros((640, 480, 3), dtype=\"uint8\")\n",
    "tron = (102, 251, 251)\n",
    "image = cv2.rectangle(sheet, (100, 100), (380, 540), tron)\n",
    "imageRGB = cv2.cvtColor(image, cv2.COLOR_BGR2RGB)\n",
    "plt.imshow(image)\n",
    "cv2.imwrite('output/result1.png', imageRGB)\n"
   ],
   "outputs": [
    {
     "output_type": "execute_result",
     "data": {
      "text/plain": [
       "True"
      ]
     },
     "metadata": {},
     "execution_count": 3
    },
    {
     "output_type": "display_data",
     "data": {
      "image/png": "[encoded data removed]",
      "text/plain": [
       "<Figure size 432x288 with 1 Axes>"
      ]
     },
     "metadata": {
      "needs_background": "light"
     }
    }
   ],
   "metadata": {}
  },
  {
   "cell_type": "markdown",
   "source": [
    "### Task 3\n"
   ],
   "metadata": {}
  },
  {
   "cell_type": "code",
   "execution_count": 4,
   "source": [
    "imagePaths = ['./src/input1/1.png', './src/input1/2.png']\n",
    "for num,image in enumerate(imagePaths):\n",
    "    cv2.imwrite(f'output/result{num+2}.png', cv2.imread(image))"
   ],
   "outputs": [],
   "metadata": {}
  },
  {
   "cell_type": "markdown",
   "source": [
    "### Task 4\n"
   ],
   "metadata": {}
  },
  {
   "cell_type": "code",
   "execution_count": 5,
   "source": [
    "trainData = './src/Task 4/Example.csv'\n",
    "testData = './src/Task 4/Test.csv'"
   ],
   "outputs": [],
   "metadata": {}
  },
  {
   "cell_type": "code",
   "execution_count": 6,
   "source": [
    "with open(trainData, 'r') as f:\n",
    "    train = f.readlines()\n",
    "train = [x.strip().split(',') for x in train]\n",
    "objs = []\n",
    "for i in train[1:]:\n",
    "    objs.append(dict(zip(train[0], i)))"
   ],
   "outputs": [],
   "metadata": {}
  },
  {
   "cell_type": "code",
   "execution_count": 7,
   "source": [
    "with open(testData, 'r') as f:\n",
    "    test = f.readlines()\n",
    "test = [x.strip().split(',') for x in test]\n",
    "objs = []\n",
    "for i in test[1:]:\n",
    "    objs.append(dict(zip(test[0], i)))\n"
   ],
   "outputs": [],
   "metadata": {}
  },
  {
   "cell_type": "code",
   "execution_count": 8,
   "source": [
    "textColor = (50, 1, 51)\n",
    "photoColor = (1, 51, 50)\n",
    "objectColor = (51, 50, 1)"
   ],
   "outputs": [],
   "metadata": {}
  },
  {
   "cell_type": "code",
   "execution_count": 9,
   "source": [
    "for obj in objs:\n",
    "    loc = (int(obj['x']), int(obj['y']))\n",
    "    end = (loc[0]+int(obj['width']), loc[1]+int(obj['height']))\n",
    "\n",
    "    color = textColor*(obj['Type'] == 'text') + photoColor * \\\n",
    "        (obj['Type'] == 'photo') + objectColor*(obj['Type'] == 'object')\n",
    "\n",
    "    sheet = np.zeros((int(obj['height_cavas']), int(\n",
    "        obj['width_canvas']), 3), dtype=\"uint8\")\n",
    "    \n",
    "    image = cv2.rectangle(sheet, loc, end, color, -1)\n",
    "\n",
    "    obj['sheet'] = sheet\n"
   ],
   "outputs": [],
   "metadata": {}
  },
  {
   "cell_type": "code",
   "execution_count": 10,
   "source": [
    "def accumulate(l):\n",
    "    it = itertools.groupby(l, operator.itemgetter(0))\n",
    "    for key, subiter in it:\n",
    "       yield key, list((item[1], item[2]) for item in subiter)"
   ],
   "outputs": [],
   "metadata": {}
  },
  {
   "cell_type": "code",
   "execution_count": 11,
   "source": [
    "wireframes = []\n",
    "sheets = []\n",
    "\n",
    "for i in objs:\n",
    "   sheets.append((i[\"Wireframe\"], i[\"position\"], i[\"sheet\"]))\n",
    "\n",
    "wireframes = list(accumulate(sheets))"
   ],
   "outputs": [],
   "metadata": {}
  },
  {
   "cell_type": "code",
   "execution_count": 12,
   "source": [
    "for wireframe in wireframes:\n",
    "    imag = wireframe[1][0][1]\n",
    "    \n",
    "    for sheet in wireframe[1]:\n",
    "        current_image = sheet[1]\n",
    "        imag = cv2.addWeighted(imag, 1, current_image, 1, 0)\n",
    "    imag = cv2.bitwise_not(imag)\n",
    "\n",
    "    plt.imsave(f'output/result{int(wireframe[0])+3}.png', imag)\n"
   ],
   "outputs": [],
   "metadata": {}
  },
  {
   "cell_type": "markdown",
   "source": [
    "### Task 5 ( BONUS )"
   ],
   "metadata": {}
  },
  {
   "cell_type": "code",
   "execution_count": 13,
   "source": [
    "# Reading Images\n",
    "images = sorted(['./src/input2/'+x for x in os.listdir('./src/input2/')])"
   ],
   "outputs": [],
   "metadata": {}
  },
  {
   "cell_type": "code",
   "execution_count": 14,
   "source": [
    "# Setting masks\n",
    "lower_cigg = np.array([0, 100, 10])\n",
    "upper_cigg = np.array([60, 255, 255])"
   ],
   "outputs": [],
   "metadata": {}
  },
  {
   "cell_type": "code",
   "execution_count": 15,
   "source": [
    "# Tsting Mask\n",
    "img = cv2.imread(images[0])\n",
    "imgHSV = cv2.cvtColor(img, cv2.COLOR_BGR2HSV)\n",
    "\n",
    "mask0 = cv2.inRange(imgHSV, lower_cigg, upper_cigg)\n",
    "\n",
    "output_img = img.copy()\n",
    "output_img[np.where(mask0 == 0)] = 0\n",
    "plt.imshow(output_img)"
   ],
   "outputs": [
    {
     "output_type": "execute_result",
     "data": {
      "text/plain": [
       "<matplotlib.image.AxesImage at 0x7f1a85458ac0>"
      ]
     },
     "metadata": {},
     "execution_count": 15
    },
    {
     "output_type": "display_data",
     "data": {
      "image/png": "[encoded data removed]",
      "text/plain": [
       "<Figure size 432x288 with 1 Axes>"
      ]
     },
     "metadata": {
      "needs_background": "light"
     }
    }
   ],
   "metadata": {}
  },
  {
   "cell_type": "code",
   "execution_count": 16,
   "source": [
    "# Applying Mask\n",
    "res = []\n",
    "for image in images:\n",
    "    img = cv2.imread(image)\n",
    "    imgHSV = cv2.cvtColor(img, cv2.COLOR_BGR2HSV)\n",
    "    \n",
    "    mask0 = cv2.inRange(imgHSV, lower_cigg, upper_cigg)\n",
    "\n",
    "    output_img = img.copy()\n",
    "    output_img[np.where(mask0 == 0)] = 0\n",
    "    res.append(output_img)\n"
   ],
   "outputs": [],
   "metadata": {}
  },
  {
   "cell_type": "code",
   "execution_count": 17,
   "source": [
    "# Testing Grayscale over Binary\n",
    "temp = cv2.cvtColor(res[0], cv2.COLOR_HSV2RGB)\n",
    "_, thresh = cv2.threshold(temp, 0, 255, cv2.THRESH_BINARY)\n",
    "gray = cv2.cvtColor(thresh, cv2.COLOR_RGB2GRAY)\n",
    "plt.imshow(thresh)\n"
   ],
   "outputs": [
    {
     "output_type": "execute_result",
     "data": {
      "text/plain": [
       "<matplotlib.image.AxesImage at 0x7f1a853d3130>"
      ]
     },
     "metadata": {},
     "execution_count": 17
    },
    {
     "output_type": "display_data",
     "data": {
      "image/png": "[encoded data removed]",
      "text/plain": [
       "<Figure size 432x288 with 1 Axes>"
      ]
     },
     "metadata": {
      "needs_background": "light"
     }
    }
   ],
   "metadata": {}
  },
  {
   "cell_type": "code",
   "execution_count": 18,
   "source": [
    "# Grayscale Binary Conversion\n",
    "grays = []\n",
    "for i in res:\n",
    "    temp = cv2.cvtColor(i, cv2.COLOR_HSV2RGB)\n",
    "    _, thresh = cv2.threshold(temp, 0, 255, cv2.THRESH_BINARY)\n",
    "    gray = cv2.cvtColor(thresh, cv2.COLOR_RGB2GRAY)\n",
    "    grays.append(gray)\n"
   ],
   "outputs": [],
   "metadata": {}
  },
  {
   "cell_type": "code",
   "execution_count": 20,
   "source": [
    "for i,temp in enumerate(grays):\n",
    "    contours, hierarchy = cv2.findContours(\n",
    "        temp, cv2.RETR_TREE, cv2.CHAIN_APPROX_SIMPLE)\n",
    "    contours = sorted(contours, key=cv2.contourArea, reverse=True)\n",
    "\n",
    "    perimeters = [cv2.arcLength(contours[i], True)\n",
    "                  for i in range(len(contours))]\n",
    "    \n",
    "    listindex = [i for i in range(len(perimeters)) if perimeters[i] > perimeters[0]/5]\n",
    "    print(len(listindex))\n",
    "    for count,cigg in enumerate(listindex):\n",
    "        stencil = np.zeros(img.shape).astype(img.dtype)\n",
    "        cv2.drawContours(\n",
    "            stencil, [contours[cigg]], 0, (255, 255, 255), cv2.FILLED)\n",
    "        res = cv2.bitwise_and(img, stencil)\n",
    "        \n",
    "        canny = cv2.Canny(res, 10, 255)\n",
    "\n",
    "        os.makedirs(f'./output/Task5/{i+1}/', exist_ok=True)\n",
    "        cv2.imwrite(f\"./output/Task5/{i+1}/{count}.png\", canny)\n"
   ],
   "outputs": [
    {
     "output_type": "stream",
     "name": "stdout",
     "text": [
      "18\n",
      "19\n",
      "17\n",
      "15\n"
     ]
    }
   ],
   "metadata": {}
  },
  {
   "cell_type": "code",
   "execution_count": null,
   "source": [],
   "outputs": [],
   "metadata": {}
  }
 ],
 "metadata": {
  "orig_nbformat": 4,
  "language_info": {
   "name": "python",
   "version": "3.9.6",
   "mimetype": "text/x-python",
   "codemirror_mode": {
    "name": "ipython",
    "version": 3
   },
   "pygments_lexer": "ipython3",
   "nbconvert_exporter": "python",
   "file_extension": ".py"
  },
  "kernelspec": {
   "name": "python3",
   "display_name": "Python 3.9.6 64-bit ('openCV': conda)"
  },
  "interpreter": {
   "hash": "a3013213d9c1392d6b274c3e0715fdd45d5d4d25682cb8759542b081ad5f1378"
  }
 },
 "nbformat": 4,
 "nbformat_minor": 2
}